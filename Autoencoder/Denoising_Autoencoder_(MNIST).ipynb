{
  "nbformat": 4,
  "nbformat_minor": 0,
  "metadata": {
    "colab": {
      "name": "Denoising Autoencoder (MNIST).ipynb",
      "provenance": [],
      "collapsed_sections": [],
      "authorship_tag": "ABX9TyNwiq3vz94R4BWyHHa7xvjk",
      "include_colab_link": true
    },
    "kernelspec": {
      "name": "python3",
      "display_name": "Python 3"
    },
    "accelerator": "GPU"
  },
  "cells": [
    {
      "cell_type": "markdown",
      "metadata": {
        "id": "view-in-github",
        "colab_type": "text"
      },
      "source": [
        "<a href=\"https://colab.research.google.com/github/ncduy0303/Competitive-Programming/blob/master/Autoencoder/Denoising_Autoencoder_(MNIST).ipynb\" target=\"_parent\"><img src=\"https://colab.research.google.com/assets/colab-badge.svg\" alt=\"Open In Colab\"/></a>"
      ]
    },
    {
      "cell_type": "markdown",
      "metadata": {
        "id": "UdZYDfODJQ1B",
        "colab_type": "text"
      },
      "source": [
        "*Reference: https://blog.keras.io/building-autoencoders-in-keras.html*"
      ]
    },
    {
      "cell_type": "markdown",
      "metadata": {
        "id": "8bQlnnwtJSB3",
        "colab_type": "text"
      },
      "source": [
        "#### 1) Import the necessary libraries:"
      ]
    },
    {
      "cell_type": "code",
      "metadata": {
        "id": "Yi5s0X0GJTnH",
        "colab_type": "code",
        "colab": {}
      },
      "source": [
        "import numpy as np\n",
        "import pandas as pd\n",
        "import matplotlib.pyplot as plt"
      ],
      "execution_count": 0,
      "outputs": []
    },
    {
      "cell_type": "code",
      "metadata": {
        "id": "twKAlUx8JVI6",
        "colab_type": "code",
        "colab": {}
      },
      "source": [
        "from tensorflow.keras.models import Sequential, Model\n",
        "from tensorflow.keras.layers import *\n",
        "from tensorflow.keras.datasets import mnist"
      ],
      "execution_count": 0,
      "outputs": []
    },
    {
      "cell_type": "markdown",
      "metadata": {
        "id": "ySlL3cYlJVg0",
        "colab_type": "text"
      },
      "source": [
        "#### 2) Data preprocessing:"
      ]
    },
    {
      "cell_type": "code",
      "metadata": {
        "id": "k7RyMnzaJW3a",
        "colab_type": "code",
        "colab": {
          "base_uri": "https://localhost:8080/",
          "height": 51
        },
        "outputId": "afea44e5-5826-486b-fcbc-75a3b1b8fe34"
      },
      "source": [
        "# Load the MNIST dataset\n",
        "(x_train, _), (x_test, _) = mnist.load_data()"
      ],
      "execution_count": 3,
      "outputs": [
        {
          "output_type": "stream",
          "text": [
            "Downloading data from https://storage.googleapis.com/tensorflow/tf-keras-datasets/mnist.npz\n",
            "11493376/11490434 [==============================] - 0s 0us/step\n"
          ],
          "name": "stdout"
        }
      ]
    },
    {
      "cell_type": "code",
      "metadata": {
        "id": "4oCNdWsaJr1F",
        "colab_type": "code",
        "colab": {}
      },
      "source": [
        "# Normalize the data between 0 and 1\n",
        "x_train = x_train.astype('float32') / 255.\n",
        "x_test = x_test.astype('float32') / 255."
      ],
      "execution_count": 0,
      "outputs": []
    },
    {
      "cell_type": "code",
      "metadata": {
        "id": "4EP0xn3eJYL7",
        "colab_type": "code",
        "colab": {}
      },
      "source": [
        "# Reshape the images\n",
        "x_train = np.reshape(x_train, (len(x_train), 28, 28, 1))  \n",
        "x_test = np.reshape(x_test, (len(x_test), 28, 28, 1))  "
      ],
      "execution_count": 0,
      "outputs": []
    },
    {
      "cell_type": "code",
      "metadata": {
        "id": "J3IfsnJKOTJu",
        "colab_type": "code",
        "outputId": "b0c4acad-ce9d-4605-e7fa-8ebea5e9636c",
        "colab": {
          "base_uri": "https://localhost:8080/",
          "height": 51
        }
      },
      "source": [
        "print(x_train.shape)\n",
        "print(x_test.shape)"
      ],
      "execution_count": 6,
      "outputs": [
        {
          "output_type": "stream",
          "text": [
            "(60000, 28, 28, 1)\n",
            "(10000, 28, 28, 1)\n"
          ],
          "name": "stdout"
        }
      ]
    },
    {
      "cell_type": "markdown",
      "metadata": {
        "id": "NuMY4CGOJwRT",
        "colab_type": "text"
      },
      "source": [
        "#### 3) Build a convolutional autoencoder model:"
      ]
    },
    {
      "cell_type": "code",
      "metadata": {
        "id": "46XAVB9WKJ37",
        "colab_type": "code",
        "colab": {}
      },
      "source": [
        "# Pass the input\n",
        "input_img = Input(shape = (28, 28, 1))"
      ],
      "execution_count": 0,
      "outputs": []
    },
    {
      "cell_type": "code",
      "metadata": {
        "id": "JnmWnXQHKKMV",
        "colab_type": "code",
        "colab": {}
      },
      "source": [
        "# Define the encoder (number of layers decreases as we go deeper)\n",
        "x = Conv2D(32, (3, 3), activation = 'relu', padding = 'same')(input_img)\n",
        "x = MaxPooling2D((2, 2), padding = 'same')(x)\n",
        "x = Conv2D(32, (3, 3), activation = 'relu', padding = 'same')(x)\n",
        "encoded = MaxPooling2D((2, 2), padding = 'same')(x)"
      ],
      "execution_count": 0,
      "outputs": []
    },
    {
      "cell_type": "code",
      "metadata": {
        "id": "0elUiHpXKLnM",
        "colab_type": "code",
        "colab": {}
      },
      "source": [
        "# Define the decoder (number of layers increases as we go deeper)\n",
        "x = Conv2D(32, (3, 3), activation = 'relu', padding = 'same')(encoded)\n",
        "x = UpSampling2D((2, 2))(x)\n",
        "x = Conv2D(32, (3, 3), activation = 'relu', padding = 'same')(x)\n",
        "x = UpSampling2D((2, 2))(x)\n",
        "decoded = Conv2D(1, (3, 3), activation = 'sigmoid', padding = 'same')(x)"
      ],
      "execution_count": 0,
      "outputs": []
    },
    {
      "cell_type": "code",
      "metadata": {
        "id": "JyOz98g0J5w7",
        "colab_type": "code",
        "outputId": "60800eac-5ad8-4300-dbbe-bc1f7a37e2a1",
        "colab": {
          "base_uri": "https://localhost:8080/",
          "height": 1000
        }
      },
      "source": [
        "# Compile the autoencoder\n",
        "autoencoder = Model(input_img, decoded)\n",
        "autoencoder.compile(loss = 'binary_crossentropy', optimizer = 'adam')\n",
        "\n",
        "# Fit the autoencoder\n",
        "autoencoder.fit(x_train, x_train,\n",
        "                epochs = 50,\n",
        "                batch_size = 128,\n",
        "                shuffle = True,\n",
        "                validation_data = (x_test, x_test))"
      ],
      "execution_count": 10,
      "outputs": [
        {
          "output_type": "stream",
          "text": [
            "Epoch 1/50\n",
            "469/469 [==============================] - 3s 6ms/step - loss: 0.1179 - val_loss: 0.0753\n",
            "Epoch 2/50\n",
            "469/469 [==============================] - 3s 5ms/step - loss: 0.0739 - val_loss: 0.0718\n",
            "Epoch 3/50\n",
            "469/469 [==============================] - 2s 5ms/step - loss: 0.0712 - val_loss: 0.0696\n",
            "Epoch 4/50\n",
            "469/469 [==============================] - 2s 5ms/step - loss: 0.0697 - val_loss: 0.0689\n",
            "Epoch 5/50\n",
            "469/469 [==============================] - 3s 5ms/step - loss: 0.0687 - val_loss: 0.0677\n",
            "Epoch 6/50\n",
            "469/469 [==============================] - 2s 5ms/step - loss: 0.0680 - val_loss: 0.0671\n",
            "Epoch 7/50\n",
            "469/469 [==============================] - 2s 5ms/step - loss: 0.0675 - val_loss: 0.0666\n",
            "Epoch 8/50\n",
            "469/469 [==============================] - 2s 5ms/step - loss: 0.0670 - val_loss: 0.0663\n",
            "Epoch 9/50\n",
            "469/469 [==============================] - 2s 5ms/step - loss: 0.0666 - val_loss: 0.0659\n",
            "Epoch 10/50\n",
            "469/469 [==============================] - 2s 5ms/step - loss: 0.0663 - val_loss: 0.0656\n",
            "Epoch 11/50\n",
            "469/469 [==============================] - 3s 5ms/step - loss: 0.0660 - val_loss: 0.0653\n",
            "Epoch 12/50\n",
            "469/469 [==============================] - 2s 5ms/step - loss: 0.0657 - val_loss: 0.0651\n",
            "Epoch 13/50\n",
            "469/469 [==============================] - 3s 5ms/step - loss: 0.0655 - val_loss: 0.0649\n",
            "Epoch 14/50\n",
            "469/469 [==============================] - 3s 5ms/step - loss: 0.0653 - val_loss: 0.0647\n",
            "Epoch 15/50\n",
            "469/469 [==============================] - 3s 5ms/step - loss: 0.0651 - val_loss: 0.0646\n",
            "Epoch 16/50\n",
            "469/469 [==============================] - 3s 5ms/step - loss: 0.0650 - val_loss: 0.0647\n",
            "Epoch 17/50\n",
            "469/469 [==============================] - 2s 5ms/step - loss: 0.0648 - val_loss: 0.0645\n",
            "Epoch 18/50\n",
            "469/469 [==============================] - 3s 5ms/step - loss: 0.0647 - val_loss: 0.0642\n",
            "Epoch 19/50\n",
            "469/469 [==============================] - 2s 5ms/step - loss: 0.0646 - val_loss: 0.0642\n",
            "Epoch 20/50\n",
            "469/469 [==============================] - 3s 5ms/step - loss: 0.0645 - val_loss: 0.0640\n",
            "Epoch 21/50\n",
            "469/469 [==============================] - 3s 5ms/step - loss: 0.0644 - val_loss: 0.0639\n",
            "Epoch 22/50\n",
            "469/469 [==============================] - 3s 5ms/step - loss: 0.0643 - val_loss: 0.0640\n",
            "Epoch 23/50\n",
            "469/469 [==============================] - 3s 5ms/step - loss: 0.0642 - val_loss: 0.0637\n",
            "Epoch 24/50\n",
            "469/469 [==============================] - 3s 5ms/step - loss: 0.0641 - val_loss: 0.0637\n",
            "Epoch 25/50\n",
            "469/469 [==============================] - 3s 5ms/step - loss: 0.0641 - val_loss: 0.0636\n",
            "Epoch 26/50\n",
            "469/469 [==============================] - 3s 5ms/step - loss: 0.0640 - val_loss: 0.0635\n",
            "Epoch 27/50\n",
            "469/469 [==============================] - 3s 5ms/step - loss: 0.0639 - val_loss: 0.0635\n",
            "Epoch 28/50\n",
            "469/469 [==============================] - 3s 5ms/step - loss: 0.0639 - val_loss: 0.0634\n",
            "Epoch 29/50\n",
            "469/469 [==============================] - 3s 5ms/step - loss: 0.0638 - val_loss: 0.0634\n",
            "Epoch 30/50\n",
            "469/469 [==============================] - 3s 5ms/step - loss: 0.0638 - val_loss: 0.0633\n",
            "Epoch 31/50\n",
            "469/469 [==============================] - 3s 5ms/step - loss: 0.0637 - val_loss: 0.0633\n",
            "Epoch 32/50\n",
            "469/469 [==============================] - 3s 5ms/step - loss: 0.0637 - val_loss: 0.0632\n",
            "Epoch 33/50\n",
            "469/469 [==============================] - 3s 5ms/step - loss: 0.0636 - val_loss: 0.0632\n",
            "Epoch 34/50\n",
            "469/469 [==============================] - 3s 5ms/step - loss: 0.0636 - val_loss: 0.0631\n",
            "Epoch 35/50\n",
            "469/469 [==============================] - 2s 5ms/step - loss: 0.0636 - val_loss: 0.0631\n",
            "Epoch 36/50\n",
            "469/469 [==============================] - 3s 5ms/step - loss: 0.0635 - val_loss: 0.0631\n",
            "Epoch 37/50\n",
            "469/469 [==============================] - 3s 5ms/step - loss: 0.0635 - val_loss: 0.0630\n",
            "Epoch 38/50\n",
            "469/469 [==============================] - 3s 5ms/step - loss: 0.0634 - val_loss: 0.0632\n",
            "Epoch 39/50\n",
            "469/469 [==============================] - 3s 5ms/step - loss: 0.0634 - val_loss: 0.0630\n",
            "Epoch 40/50\n",
            "469/469 [==============================] - 3s 5ms/step - loss: 0.0634 - val_loss: 0.0630\n",
            "Epoch 41/50\n",
            "469/469 [==============================] - 3s 5ms/step - loss: 0.0634 - val_loss: 0.0630\n",
            "Epoch 42/50\n",
            "469/469 [==============================] - 3s 5ms/step - loss: 0.0633 - val_loss: 0.0629\n",
            "Epoch 43/50\n",
            "469/469 [==============================] - 3s 5ms/step - loss: 0.0633 - val_loss: 0.0629\n",
            "Epoch 44/50\n",
            "469/469 [==============================] - 3s 5ms/step - loss: 0.0633 - val_loss: 0.0630\n",
            "Epoch 45/50\n",
            "469/469 [==============================] - 3s 5ms/step - loss: 0.0632 - val_loss: 0.0628\n",
            "Epoch 46/50\n",
            "469/469 [==============================] - 3s 5ms/step - loss: 0.0632 - val_loss: 0.0628\n",
            "Epoch 47/50\n",
            "469/469 [==============================] - 3s 5ms/step - loss: 0.0632 - val_loss: 0.0628\n",
            "Epoch 48/50\n",
            "469/469 [==============================] - 3s 6ms/step - loss: 0.0632 - val_loss: 0.0629\n",
            "Epoch 49/50\n",
            "469/469 [==============================] - 3s 5ms/step - loss: 0.0632 - val_loss: 0.0627\n",
            "Epoch 50/50\n",
            "469/469 [==============================] - 3s 6ms/step - loss: 0.0631 - val_loss: 0.0629\n"
          ],
          "name": "stdout"
        },
        {
          "output_type": "execute_result",
          "data": {
            "text/plain": [
              "<tensorflow.python.keras.callbacks.History at 0x7f017028ea20>"
            ]
          },
          "metadata": {
            "tags": []
          },
          "execution_count": 10
        }
      ]
    },
    {
      "cell_type": "markdown",
      "metadata": {
        "id": "wF8whT_BMuhH",
        "colab_type": "text"
      },
      "source": [
        "#### 4) Evaluate the model:"
      ]
    },
    {
      "cell_type": "code",
      "metadata": {
        "id": "zhj1fMHBMu6i",
        "colab_type": "code",
        "colab": {}
      },
      "source": [
        "# Predict the result (note that we should have not used the test data as validation for training)\n",
        "decoded_imgs = autoencoder.predict(x_test)"
      ],
      "execution_count": 0,
      "outputs": []
    },
    {
      "cell_type": "code",
      "metadata": {
        "id": "KaK5rXWnMwDz",
        "colab_type": "code",
        "colab": {
          "base_uri": "https://localhost:8080/",
          "height": 248
        },
        "outputId": "36cfa12b-f460-4247-b4fa-ddd091020f62"
      },
      "source": [
        "# Compare the encoded images and the decoded images\n",
        "n = 10  \n",
        "plt.figure(figsize=(20, 4))\n",
        "for i in range(n):\n",
        "    # display original\n",
        "    ax = plt.subplot(2, n, i + 1)\n",
        "    plt.imshow(x_test[i].reshape(28, 28))\n",
        "    plt.gray()\n",
        "    ax.get_xaxis().set_visible(False)\n",
        "    ax.get_yaxis().set_visible(False)\n",
        "\n",
        "    # display reconstruction\n",
        "    ax = plt.subplot(2, n, i + 1 + n)\n",
        "    plt.imshow(decoded_imgs[i].reshape(28, 28))\n",
        "    plt.gray()\n",
        "    ax.get_xaxis().set_visible(False)\n",
        "    ax.get_yaxis().set_visible(False)\n",
        "plt.show()"
      ],
      "execution_count": 12,
      "outputs": [
        {
          "output_type": "display_data",
          "data": {
            "image/png": "[encoded data removed]",
            "text/plain": [
              "<Figure size 1440x288 with 20 Axes>"
            ]
          },
          "metadata": {
            "tags": []
          }
        }
      ]
    },
    {
      "cell_type": "markdown",
      "metadata": {
        "id": "gZ-6yaTyM786",
        "colab_type": "text"
      },
      "source": [
        "#### 5) Application to image denoising:"
      ]
    },
    {
      "cell_type": "code",
      "metadata": {
        "id": "N58l2DoFM-Qr",
        "colab_type": "code",
        "colab": {}
      },
      "source": [
        "# Generate synthetic noisy digits\n",
        "noise_factor = 0.5\n",
        "x_train_noisy = x_train + noise_factor * np.random.normal(loc=0.0, scale=1.0, size=x_train.shape) \n",
        "x_test_noisy = x_test + noise_factor * np.random.normal(loc=0.0, scale=1.0, size=x_test.shape) \n",
        "\n",
        "x_train_noisy = np.clip(x_train_noisy, 0., 1.)\n",
        "x_test_noisy = np.clip(x_test_noisy, 0., 1.)"
      ],
      "execution_count": 0,
      "outputs": []
    },
    {
      "cell_type": "code",
      "metadata": {
        "id": "LzOec_mJNFY3",
        "colab_type": "code",
        "outputId": "992c678d-9349-40ab-fbc8-1db512096d12",
        "colab": {
          "base_uri": "https://localhost:8080/",
          "height": 1000
        }
      },
      "source": [
        "# Train the model\n",
        "autoencoder.fit(x_train_noisy, x_train,\n",
        "                epochs = 100,\n",
        "                batch_size = 128,\n",
        "                shuffle = True,\n",
        "                validation_data = (x_test_noisy, x_test))"
      ],
      "execution_count": 14,
      "outputs": [
        {
          "output_type": "stream",
          "text": [
            "Epoch 1/100\n",
            "469/469 [==============================] - 3s 5ms/step - loss: 0.1359 - val_loss: 0.1157\n",
            "Epoch 2/100\n",
            "469/469 [==============================] - 3s 5ms/step - loss: 0.1141 - val_loss: 0.1108\n",
            "Epoch 3/100\n",
            "469/469 [==============================] - 3s 6ms/step - loss: 0.1104 - val_loss: 0.1079\n",
            "Epoch 4/100\n",
            "469/469 [==============================] - 3s 5ms/step - loss: 0.1080 - val_loss: 0.1060\n",
            "Epoch 5/100\n",
            "469/469 [==============================] - 3s 6ms/step - loss: 0.1064 - val_loss: 0.1048\n",
            "Epoch 6/100\n",
            "469/469 [==============================] - 3s 5ms/step - loss: 0.1051 - val_loss: 0.1036\n",
            "Epoch 7/100\n",
            "469/469 [==============================] - 3s 5ms/step - loss: 0.1041 - val_loss: 0.1027\n",
            "Epoch 8/100\n",
            "469/469 [==============================] - 3s 5ms/step - loss: 0.1032 - val_loss: 0.1020\n",
            "Epoch 9/100\n",
            "469/469 [==============================] - 3s 5ms/step - loss: 0.1024 - val_loss: 0.1012\n",
            "Epoch 10/100\n",
            "469/469 [==============================] - 3s 5ms/step - loss: 0.1019 - val_loss: 0.1007\n",
            "Epoch 11/100\n",
            "469/469 [==============================] - 3s 5ms/step - loss: 0.1012 - val_loss: 0.1010\n",
            "Epoch 12/100\n",
            "469/469 [==============================] - 3s 5ms/step - loss: 0.1007 - val_loss: 0.0996\n",
            "Epoch 13/100\n",
            "469/469 [==============================] - 3s 5ms/step - loss: 0.1002 - val_loss: 0.0992\n",
            "Epoch 14/100\n",
            "469/469 [==============================] - 3s 5ms/step - loss: 0.0998 - val_loss: 0.0989\n",
            "Epoch 15/100\n",
            "469/469 [==============================] - 3s 5ms/step - loss: 0.0995 - val_loss: 0.0986\n",
            "Epoch 16/100\n",
            "469/469 [==============================] - 3s 5ms/step - loss: 0.0992 - val_loss: 0.0983\n",
            "Epoch 17/100\n",
            "469/469 [==============================] - 3s 5ms/step - loss: 0.0989 - val_loss: 0.0983\n",
            "Epoch 18/100\n",
            "469/469 [==============================] - 3s 5ms/step - loss: 0.0986 - val_loss: 0.0978\n",
            "Epoch 19/100\n",
            "469/469 [==============================] - 3s 5ms/step - loss: 0.0984 - val_loss: 0.0975\n",
            "Epoch 20/100\n",
            "469/469 [==============================] - 3s 5ms/step - loss: 0.0981 - val_loss: 0.0973\n",
            "Epoch 21/100\n",
            "469/469 [==============================] - 3s 5ms/step - loss: 0.0979 - val_loss: 0.0972\n",
            "Epoch 22/100\n",
            "469/469 [==============================] - 3s 5ms/step - loss: 0.0977 - val_loss: 0.0969\n",
            "Epoch 23/100\n",
            "469/469 [==============================] - 3s 5ms/step - loss: 0.0975 - val_loss: 0.0968\n",
            "Epoch 24/100\n",
            "469/469 [==============================] - 3s 5ms/step - loss: 0.0973 - val_loss: 0.0967\n",
            "Epoch 25/100\n",
            "469/469 [==============================] - 3s 5ms/step - loss: 0.0972 - val_loss: 0.0967\n",
            "Epoch 26/100\n",
            "469/469 [==============================] - 3s 5ms/step - loss: 0.0970 - val_loss: 0.0964\n",
            "Epoch 27/100\n",
            "469/469 [==============================] - 3s 5ms/step - loss: 0.0969 - val_loss: 0.0965\n",
            "Epoch 28/100\n",
            "469/469 [==============================] - 3s 5ms/step - loss: 0.0967 - val_loss: 0.0963\n",
            "Epoch 29/100\n",
            "469/469 [==============================] - 3s 5ms/step - loss: 0.0966 - val_loss: 0.0960\n",
            "Epoch 30/100\n",
            "469/469 [==============================] - 3s 5ms/step - loss: 0.0965 - val_loss: 0.0959\n",
            "Epoch 31/100\n",
            "469/469 [==============================] - 3s 5ms/step - loss: 0.0964 - val_loss: 0.0961\n",
            "Epoch 32/100\n",
            "469/469 [==============================] - 3s 5ms/step - loss: 0.0963 - val_loss: 0.0958\n",
            "Epoch 33/100\n",
            "469/469 [==============================] - 3s 5ms/step - loss: 0.0961 - val_loss: 0.0957\n",
            "Epoch 34/100\n",
            "469/469 [==============================] - 3s 5ms/step - loss: 0.0960 - val_loss: 0.0955\n",
            "Epoch 35/100\n",
            "469/469 [==============================] - 3s 5ms/step - loss: 0.0959 - val_loss: 0.0954\n",
            "Epoch 36/100\n",
            "469/469 [==============================] - 3s 5ms/step - loss: 0.0958 - val_loss: 0.0955\n",
            "Epoch 37/100\n",
            "469/469 [==============================] - 3s 5ms/step - loss: 0.0958 - val_loss: 0.0954\n",
            "Epoch 38/100\n",
            "469/469 [==============================] - 3s 5ms/step - loss: 0.0957 - val_loss: 0.0953\n",
            "Epoch 39/100\n",
            "469/469 [==============================] - 3s 5ms/step - loss: 0.0956 - val_loss: 0.0952\n",
            "Epoch 40/100\n",
            "469/469 [==============================] - 3s 5ms/step - loss: 0.0955 - val_loss: 0.0952\n",
            "Epoch 41/100\n",
            "469/469 [==============================] - 3s 5ms/step - loss: 0.0955 - val_loss: 0.0951\n",
            "Epoch 42/100\n",
            "469/469 [==============================] - 3s 5ms/step - loss: 0.0954 - val_loss: 0.0950\n",
            "Epoch 43/100\n",
            "469/469 [==============================] - 3s 5ms/step - loss: 0.0953 - val_loss: 0.0951\n",
            "Epoch 44/100\n",
            "469/469 [==============================] - 3s 5ms/step - loss: 0.0953 - val_loss: 0.0949\n",
            "Epoch 45/100\n",
            "469/469 [==============================] - 3s 5ms/step - loss: 0.0952 - val_loss: 0.0949\n",
            "Epoch 46/100\n",
            "469/469 [==============================] - 3s 5ms/step - loss: 0.0952 - val_loss: 0.0949\n",
            "Epoch 47/100\n",
            "469/469 [==============================] - 3s 5ms/step - loss: 0.0951 - val_loss: 0.0948\n",
            "Epoch 48/100\n",
            "469/469 [==============================] - 3s 5ms/step - loss: 0.0951 - val_loss: 0.0949\n",
            "Epoch 49/100\n",
            "469/469 [==============================] - 3s 5ms/step - loss: 0.0951 - val_loss: 0.0948\n",
            "Epoch 50/100\n",
            "469/469 [==============================] - 3s 5ms/step - loss: 0.0950 - val_loss: 0.0947\n",
            "Epoch 51/100\n",
            "469/469 [==============================] - 3s 5ms/step - loss: 0.0949 - val_loss: 0.0948\n",
            "Epoch 52/100\n",
            "469/469 [==============================] - 3s 5ms/step - loss: 0.0949 - val_loss: 0.0947\n",
            "Epoch 53/100\n",
            "469/469 [==============================] - 3s 5ms/step - loss: 0.0949 - val_loss: 0.0947\n",
            "Epoch 54/100\n",
            "469/469 [==============================] - 3s 5ms/step - loss: 0.0949 - val_loss: 0.0946\n",
            "Epoch 55/100\n",
            "469/469 [==============================] - 3s 5ms/step - loss: 0.0948 - val_loss: 0.0949\n",
            "Epoch 56/100\n",
            "469/469 [==============================] - 3s 5ms/step - loss: 0.0948 - val_loss: 0.0945\n",
            "Epoch 57/100\n",
            "469/469 [==============================] - 3s 5ms/step - loss: 0.0947 - val_loss: 0.0949\n",
            "Epoch 58/100\n",
            "469/469 [==============================] - 3s 5ms/step - loss: 0.0947 - val_loss: 0.0949\n",
            "Epoch 59/100\n",
            "469/469 [==============================] - 3s 5ms/step - loss: 0.0947 - val_loss: 0.0945\n",
            "Epoch 60/100\n",
            "469/469 [==============================] - 3s 5ms/step - loss: 0.0946 - val_loss: 0.0949\n",
            "Epoch 61/100\n",
            "469/469 [==============================] - 3s 5ms/step - loss: 0.0946 - val_loss: 0.0945\n",
            "Epoch 62/100\n",
            "469/469 [==============================] - 3s 5ms/step - loss: 0.0945 - val_loss: 0.0944\n",
            "Epoch 63/100\n",
            "469/469 [==============================] - 3s 5ms/step - loss: 0.0945 - val_loss: 0.0951\n",
            "Epoch 64/100\n",
            "469/469 [==============================] - 3s 5ms/step - loss: 0.0945 - val_loss: 0.0944\n",
            "Epoch 65/100\n",
            "469/469 [==============================] - 3s 5ms/step - loss: 0.0945 - val_loss: 0.0943\n",
            "Epoch 66/100\n",
            "469/469 [==============================] - 3s 5ms/step - loss: 0.0945 - val_loss: 0.0943\n",
            "Epoch 67/100\n",
            "469/469 [==============================] - 3s 5ms/step - loss: 0.0944 - val_loss: 0.0943\n",
            "Epoch 68/100\n",
            "469/469 [==============================] - 3s 5ms/step - loss: 0.0944 - val_loss: 0.0943\n",
            "Epoch 69/100\n",
            "469/469 [==============================] - 3s 5ms/step - loss: 0.0944 - val_loss: 0.0945\n",
            "Epoch 70/100\n",
            "469/469 [==============================] - 3s 5ms/step - loss: 0.0944 - val_loss: 0.0943\n",
            "Epoch 71/100\n",
            "469/469 [==============================] - 3s 5ms/step - loss: 0.0943 - val_loss: 0.0943\n",
            "Epoch 72/100\n",
            "469/469 [==============================] - 3s 5ms/step - loss: 0.0943 - val_loss: 0.0942\n",
            "Epoch 73/100\n",
            "469/469 [==============================] - 3s 5ms/step - loss: 0.0943 - val_loss: 0.0942\n",
            "Epoch 74/100\n",
            "469/469 [==============================] - 3s 5ms/step - loss: 0.0943 - val_loss: 0.0941\n",
            "Epoch 75/100\n",
            "469/469 [==============================] - 3s 5ms/step - loss: 0.0943 - val_loss: 0.0942\n",
            "Epoch 76/100\n",
            "469/469 [==============================] - 3s 5ms/step - loss: 0.0943 - val_loss: 0.0941\n",
            "Epoch 77/100\n",
            "469/469 [==============================] - 3s 5ms/step - loss: 0.0942 - val_loss: 0.0941\n",
            "Epoch 78/100\n",
            "469/469 [==============================] - 3s 5ms/step - loss: 0.0942 - val_loss: 0.0943\n",
            "Epoch 79/100\n",
            "469/469 [==============================] - 3s 5ms/step - loss: 0.0942 - val_loss: 0.0941\n",
            "Epoch 80/100\n",
            "469/469 [==============================] - 3s 5ms/step - loss: 0.0942 - val_loss: 0.0941\n",
            "Epoch 81/100\n",
            "469/469 [==============================] - 3s 5ms/step - loss: 0.0941 - val_loss: 0.0943\n",
            "Epoch 82/100\n",
            "469/469 [==============================] - 3s 5ms/step - loss: 0.0941 - val_loss: 0.0941\n",
            "Epoch 83/100\n",
            "469/469 [==============================] - 3s 5ms/step - loss: 0.0941 - val_loss: 0.0941\n",
            "Epoch 84/100\n",
            "469/469 [==============================] - 3s 5ms/step - loss: 0.0941 - val_loss: 0.0940\n",
            "Epoch 85/100\n",
            "469/469 [==============================] - 3s 5ms/step - loss: 0.0941 - val_loss: 0.0941\n",
            "Epoch 86/100\n",
            "469/469 [==============================] - 3s 5ms/step - loss: 0.0941 - val_loss: 0.0940\n",
            "Epoch 87/100\n",
            "469/469 [==============================] - 3s 5ms/step - loss: 0.0940 - val_loss: 0.0940\n",
            "Epoch 88/100\n",
            "469/469 [==============================] - 3s 5ms/step - loss: 0.0940 - val_loss: 0.0942\n",
            "Epoch 89/100\n",
            "469/469 [==============================] - 3s 5ms/step - loss: 0.0940 - val_loss: 0.0941\n",
            "Epoch 90/100\n",
            "469/469 [==============================] - 3s 5ms/step - loss: 0.0940 - val_loss: 0.0940\n",
            "Epoch 91/100\n",
            "469/469 [==============================] - 3s 5ms/step - loss: 0.0939 - val_loss: 0.0940\n",
            "Epoch 92/100\n",
            "469/469 [==============================] - 3s 5ms/step - loss: 0.0940 - val_loss: 0.0939\n",
            "Epoch 93/100\n",
            "469/469 [==============================] - 3s 5ms/step - loss: 0.0939 - val_loss: 0.0940\n",
            "Epoch 94/100\n",
            "469/469 [==============================] - 3s 6ms/step - loss: 0.0939 - val_loss: 0.0939\n",
            "Epoch 95/100\n",
            "469/469 [==============================] - 3s 6ms/step - loss: 0.0939 - val_loss: 0.0939\n",
            "Epoch 96/100\n",
            "469/469 [==============================] - 3s 6ms/step - loss: 0.0939 - val_loss: 0.0938\n",
            "Epoch 97/100\n",
            "469/469 [==============================] - 3s 6ms/step - loss: 0.0939 - val_loss: 0.0941\n",
            "Epoch 98/100\n",
            "469/469 [==============================] - 3s 5ms/step - loss: 0.0938 - val_loss: 0.0939\n",
            "Epoch 99/100\n",
            "469/469 [==============================] - 3s 5ms/step - loss: 0.0939 - val_loss: 0.0938\n",
            "Epoch 100/100\n",
            "469/469 [==============================] - 3s 5ms/step - loss: 0.0938 - val_loss: 0.0938\n"
          ],
          "name": "stdout"
        },
        {
          "output_type": "execute_result",
          "data": {
            "text/plain": [
              "<tensorflow.python.keras.callbacks.History at 0x7f017de26e48>"
            ]
          },
          "metadata": {
            "tags": []
          },
          "execution_count": 14
        }
      ]
    },
    {
      "cell_type": "code",
      "metadata": {
        "id": "W4aoscVqNdYQ",
        "colab_type": "code",
        "colab": {}
      },
      "source": [
        "# Predict the result (note that we should have not used the test data as validation for training)\n",
        "denoised_imgs = autoencoder.predict(x_test_noisy)"
      ],
      "execution_count": 0,
      "outputs": []
    },
    {
      "cell_type": "code",
      "metadata": {
        "id": "mCaroaJqNWe9",
        "colab_type": "code",
        "colab": {
          "base_uri": "https://localhost:8080/",
          "height": 248
        },
        "outputId": "7cb14ce7-772f-4e68-afbe-a9b0472bf91c"
      },
      "source": [
        "# Compare the noisy images and the denoised images\n",
        "n = 10  \n",
        "plt.figure(figsize=(20, 4))\n",
        "for i in range(n):\n",
        "    # display original, noisy\n",
        "    ax = plt.subplot(2, n, i + 1)\n",
        "    plt.imshow(x_test_noisy[i].reshape(28, 28))\n",
        "    plt.gray()\n",
        "    ax.get_xaxis().set_visible(False)\n",
        "    ax.get_yaxis().set_visible(False)\n",
        "\n",
        "    # display reconstruction\n",
        "    ax = plt.subplot(2, n, i + 1 + n)\n",
        "    plt.imshow(denoised_imgs[i].reshape(28, 28))\n",
        "    plt.gray()\n",
        "    ax.get_xaxis().set_visible(False)\n",
        "    ax.get_yaxis().set_visible(False)\n",
        "plt.show()"
      ],
      "execution_count": 16,
      "outputs": [
        {
          "output_type": "display_data",
          "data": {
            "image/png": "[encoded data removed]",
            "text/plain": [
              "<Figure size 1440x288 with 20 Axes>"
            ]
          },
          "metadata": {
            "tags": []
          }
        }
      ]
    }
  ]
}